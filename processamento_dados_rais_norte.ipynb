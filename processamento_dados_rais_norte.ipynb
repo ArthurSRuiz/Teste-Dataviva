{
 "cells": [
  {
   "cell_type": "markdown",
   "metadata": {},
   "source": [
    "Chamando Bibliotecas"
   ]
  },
  {
   "cell_type": "code",
   "execution_count": 2,
   "metadata": {},
   "outputs": [],
   "source": [
    "import pandas as pd\n",
    "from sqlalchemy import create_engine"
   ]
  },
  {
   "cell_type": "markdown",
   "metadata": {},
   "source": [
    "Declaração de Variáveis"
   ]
  },
  {
   "cell_type": "code",
   "execution_count": 3,
   "metadata": {},
   "outputs": [],
   "source": [
    "# Declaração do caminho do arquivo com a base de dados\n",
    "caminho_arquivo = \"RAIS_VINC_PUB_NORTE.txt\"\n",
    "caminho_arquivo_csv = \"arquivo_tratado.csv\"\n",
    "\n",
    "# Declaração das credenciais de acesso ao banco de dados do MySQL\n",
    "host = \"localhost\"\n",
    "usuario = \"admin\"\n",
    "senha = \"admin\"\n",
    "banco_de_dados = \"dataviva_bd\"\n",
    "tabela = \"rais_norte\"\n",
    "porta = \"3306\""
   ]
  },
  {
   "cell_type": "markdown",
   "metadata": {},
   "source": [
    "Tratamento da Base de Dados"
   ]
  },
  {
   "cell_type": "code",
   "execution_count": null,
   "metadata": {},
   "outputs": [],
   "source": [
    "# Carrega o arquivo de dados\n",
    "dados = pd.read_csv(caminho_arquivo, delimiter=\";\", encoding=\"ISO-8859-1\")\n",
    "\n",
    "# Elimina os registros com \"Vínculo Ativo 31/12\" igual a 0\n",
    "dados = dados[dados[\"Vínculo Ativo 31/12\"] != 0]\n",
    "\n",
    "# Criar a nova variável \"DIV CNAE 20\" a partir da coluna \"CNAE 2.0 Classe\"\n",
    "dados[\"DIV CNAE 20\"] = dados[\"CNAE 2.0 Classe\"].astype(str).str[:2]\n",
    "\n",
    "# Salvando o arquivo tratado com a nova variável em csv\n",
    "dados.to_csv(caminho_arquivo_csv, index=False)"
   ]
  },
  {
   "cell_type": "markdown",
   "metadata": {},
   "source": [
    "Carregamento dos Dados em um Banco MySQL"
   ]
  },
  {
   "cell_type": "code",
   "execution_count": null,
   "metadata": {},
   "outputs": [],
   "source": [
    "# Criar uma conexão com o MySQL\n",
    "engine = create_engine(f\"mysql://{usuario}:{senha}@{host}:{porta}/{banco_de_dados}\")\n",
    "\n",
    "# Lê o arquivo CSV\n",
    "df = pd.read_csv(caminho_arquivo_csv)\n",
    "\n",
    "# Carregar os dados no MySQL\n",
    "df.to_sql(tabela, con=engine, if_exists=\"replace\", index=False)\n",
    "\n",
    "# Fechar a conexão\n",
    "engine.dispose()\n"
   ]
  },
  {
   "cell_type": "markdown",
   "metadata": {},
   "source": [
    "Análise dos Dados Salvos"
   ]
  },
  {
   "cell_type": "code",
   "execution_count": 6,
   "metadata": {},
   "outputs": [
    {
     "name": "stdout",
     "output_type": "stream",
     "text": [
      "As 5 atividades que mais empregam pessoas na Região Norte do Brasil:\n",
      "   DIV CNAE 20  total_empregados\n",
      "0           84            954256\n",
      "1           47            391892\n",
      "2           86            100933\n",
      "3           46             95302\n",
      "4           85             93748\n",
      "Os 5 municípios que mais empregam pessoas na Região Norte do Brasil:\n",
      "   Município  total_empregados\n",
      "0     130260            532312\n",
      "1     150140            404718\n",
      "2     172100            131645\n",
      "3     110020            116923\n",
      "4     120040            104800\n"
     ]
    }
   ],
   "source": [
    "# Criar uma conexão com o banco de dados MySQL\n",
    "engine = create_engine(f\"mysql://{usuario}:{senha}@{host}:{porta}/{banco_de_dados}\")\n",
    "\n",
    "# Faz uma query para descobrir as 5 atividades que mais empregam pessoas na Região Norte\n",
    "query = \"\"\"\n",
    "SELECT `DIV CNAE 20`, COUNT(*) AS total_empregados\n",
    "FROM {table_name}\n",
    "GROUP BY `DIV CNAE 20`\n",
    "ORDER BY total_empregados DESC\n",
    "LIMIT 5\n",
    "\"\"\".format(table_name=tabela)\n",
    "\n",
    "df_atividades = pd.read_sql_query(query, engine)\n",
    "\n",
    "# Faz uma query para descobrir os 5 municípios que mais empregam pessoas na Região Norte\n",
    "query = \"\"\"\n",
    "SELECT `Município`, COUNT(*) AS total_empregados\n",
    "FROM {table_name}\n",
    "GROUP BY `Município`\n",
    "ORDER BY total_empregados DESC\n",
    "LIMIT 5\n",
    "\"\"\".format(table_name=tabela)\n",
    "\n",
    "df_municipios = pd.read_sql_query(query, engine)\n",
    "\n",
    "# Fechar a conexão\n",
    "engine.dispose()\n",
    "\n",
    "# Exibir os resultados\n",
    "print(\"As 5 atividades que mais empregam pessoas na Região Norte do Brasil:\")\n",
    "print(df_atividades)\n",
    "\n",
    "print(\"Os 5 municípios que mais empregam pessoas na Região Norte do Brasil:\")\n",
    "print(df_municipios)"
   ]
  }
 ],
 "metadata": {
  "kernelspec": {
   "display_name": "Python 3",
   "language": "python",
   "name": "python3"
  },
  "language_info": {
   "codemirror_mode": {
    "name": "ipython",
    "version": 3
   },
   "file_extension": ".py",
   "mimetype": "text/x-python",
   "name": "python",
   "nbconvert_exporter": "python",
   "pygments_lexer": "ipython3",
   "version": "3.12.2"
  }
 },
 "nbformat": 4,
 "nbformat_minor": 2
}
